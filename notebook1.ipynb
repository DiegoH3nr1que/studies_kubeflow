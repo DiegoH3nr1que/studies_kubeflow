{
 "cells": [
  {
   "cell_type": "code",
   "execution_count": 1,
   "metadata": {},
   "outputs": [
    {
     "name": "stdout",
     "output_type": "stream",
     "text": [
      "Dados brutos gerados e salvos como 'dados_brutos.csv'.\n",
      "Pré-processamento concluído e dados salvos como 'dados_processados.csv'.\n"
     ]
    }
   ],
   "source": [
    "import pandas as pd\n",
    "import numpy as np\n",
    "\n",
    "np.random.seed(42)\n",
    "n_samples = 1000\n",
    "\n",
    "data = pd.DataFrame({\n",
    "    \"idade\": np.random.randint(18, 65, size=n_samples),\n",
    "    \"renda_anual\": np.random.normal(50000, 15000, size=n_samples).round(2),\n",
    "    \"pontuacao_credito\": np.random.uniform(300, 850, size=n_samples).round(2),\n",
    "    \"target\": np.random.choice([0, 1], size=n_samples, p=[0.6, 0.4])\n",
    "})\n",
    "\n",
    "data.to_csv(\"dados_brutos.csv\", index=False)\n",
    "print(\"Dados brutos gerados e salvos como 'dados_brutos.csv'.\")\n",
    "\n",
    "data = data.dropna()\n",
    "data['renda_normalizada'] = (data['renda_anual'] - data['renda_anual'].mean()) / data['renda_anual'].std()\n",
    "\n",
    "data.to_csv(\"dados_processados.csv\", index=False)\n",
    "print(\"Pré-processamento concluído e dados salvos como 'dados_processados.csv'.\")\n"
   ]
  }
 ],
 "metadata": {
  "kernelspec": {
   "display_name": ".env",
   "language": "python",
   "name": "python3"
  },
  "language_info": {
   "codemirror_mode": {
    "name": "ipython",
    "version": 3
   },
   "file_extension": ".py",
   "mimetype": "text/x-python",
   "name": "python",
   "nbconvert_exporter": "python",
   "pygments_lexer": "ipython3",
   "version": "3.12.8"
  }
 },
 "nbformat": 4,
 "nbformat_minor": 2
}
